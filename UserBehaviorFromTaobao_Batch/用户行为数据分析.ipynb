{
 "cells": [
  {
   "cell_type": "code",
   "execution_count": null,
   "outputs": [],
   "source": [
    "import os\n",
    "import pandas as pd\n",
    "from clickhouse_driver import Client\n",
    "\n",
    "ck_host = os.environ.get('CK_HOST') or '127.0.0.1'\n",
    "\n",
    "client = Client(host=ck_host, port=9000, user='wuhao', password='123456')\n",
    "\n"
   ],
   "metadata": {
    "collapsed": false,
    "pycharm": {
     "name": "#%%\n"
    }
   }
  },
  {
   "cell_type": "code",
   "execution_count": null,
   "outputs": [],
   "source": [
    "sql = \"\"\"select sum(if(behavior_type = 'pv', 1, 0)) as pv, uniqExact(user_id) as uv\n",
    "from test.user_behavior\"\"\"\n",
    "df=client.query_dataframe(sql)\n",
    "df"
   ],
   "metadata": {
    "collapsed": false,
    "pycharm": {
     "name": "#%%\n"
    }
   }
  },
  {
   "cell_type": "code",
   "execution_count": null,
   "outputs": [],
   "source": [
    "sql=\"\"\"select DATE(timestamp) as day,\n",
    "       sum(if(behavior_type = 'pv', 1, 0)) as pv,\n",
    "       uniqExact(user_id) as uv\n",
    "from test.user_behavior\n",
    "group by DATE(timestamp)\n",
    "order by day\"\"\"\n",
    "df=client.query_dataframe(sql)\n",
    "df"
   ],
   "metadata": {
    "collapsed": false,
    "pycharm": {
     "name": "#%%\n"
    }
   }
  },
  {
   "cell_type": "markdown",
   "source": [
    "###  每个用户的购物情况，加工到 user_behavior_count"
   ],
   "metadata": {
    "collapsed": false
   }
  },
  {
   "cell_type": "code",
   "execution_count": null,
   "outputs": [],
   "source": [
    "sql=\"\"\"drop table if exists test.user_behavior_count\"\"\"\n",
    "client.execute(sql)\n",
    "sql=\"\"\"create view test.user_behavior_count as\n",
    "(select user_id,\n",
    "       sum(if(behavior_type='pv',1,0)) as pv,\n",
    "       sum(if(behavior_type='fav',1,0)) as fav,\n",
    "       sum(if(behavior_type='cart',1,0)) as cart,\n",
    "       sum(if(behavior_type='buy',1,0)) as buy\n",
    "       from test.user_behavior\n",
    "group by user_id)\"\"\"\n",
    "client.execute(sql)"
   ],
   "metadata": {
    "collapsed": false,
    "pycharm": {
     "name": "#%%\n"
    }
   }
  },
  {
   "cell_type": "markdown",
   "source": [
    "### 复购率：产生两次或两次以上购买的用户占购买用户的比例"
   ],
   "metadata": {
    "collapsed": false
   }
  },
  {
   "cell_type": "code",
   "execution_count": null,
   "outputs": [],
   "source": [
    "sql=\"\"\"select round(sum(if(buy > 1, 1, 0)) *100 / sum(if(buy > 0, 1, 0)),2)  as p\n",
    "from test.user_behavior_count\"\"\"\n",
    "df=client.query_dataframe(sql)\n",
    "df"
   ],
   "metadata": {
    "collapsed": false,
    "pycharm": {
     "name": "#%%\n"
    }
   }
  },
  {
   "cell_type": "markdown",
   "source": [
    "### 用户行为转换率"
   ],
   "metadata": {
    "collapsed": false
   }
  },
  {
   "cell_type": "code",
   "execution_count": null,
   "outputs": [],
   "source": [
    "sql=\"\"\"select a.pv,\n",
    "       a.fav,\n",
    "       a.cart,\n",
    "       a.fav + a.cart                     `fav+cart`,\n",
    "       a.buy,\n",
    "       round((a.fav + a.cart) / a.pv, 4)  pv2favcart,\n",
    "       round(a.buy / (a.fav + a.cart), 4) favcart2buy,\n",
    "       round(a.buy / a.pv, 4)             pv2buy\n",
    "from (select sum(pv)   pv,\n",
    "             sum(fav)  fav,\n",
    "             sum(cart) cart,\n",
    "             sum(buy)  buy\n",
    "      from test.user_behavior_count) a\"\"\"\n",
    "client.query_dataframe(sql)"
   ],
   "metadata": {
    "collapsed": false,
    "pycharm": {
     "name": "#%%\n"
    }
   }
  },
  {
   "cell_type": "markdown",
   "source": [
    "### 用户行为习惯"
   ],
   "metadata": {
    "collapsed": false
   }
  },
  {
   "cell_type": "code",
   "execution_count": null,
   "outputs": [],
   "source": [
    "sql=\"\"\"select HOUR(timestamp)                  hour,\n",
    "       sumIf(1, behavior_type = 'pv')   pv,\n",
    "       sumIf(1, behavior_type = 'fav')  fav,\n",
    "       sumIf(1, behavior_type = 'cart') cart,\n",
    "       sumIf(1, behavior_type = 'buy') buy\n",
    "from test.user_behavior\n",
    "group by HOUR(timestamp)\n",
    "order by hour\"\"\"\n",
    "client.query_dataframe(sql)"
   ],
   "metadata": {
    "collapsed": false,
    "pycharm": {
     "name": "#%%\n"
    }
   }
  },
  {
   "cell_type": "markdown",
   "source": [
    "### 一周用户的活跃分布"
   ],
   "metadata": {
    "collapsed": false
   }
  },
  {
   "cell_type": "code",
   "execution_count": null,
   "outputs": [],
   "source": [
    "sql=\"\"\"select  toDayOfWeek(timestamp) weekday,\n",
    "       sumIf(1,behavior_type='pv') pv,\n",
    "       sumIf(1,behavior_type='fav') fav,\n",
    "       sumIf(1,behavior_type='cart') cart,\n",
    "       sumIf(1,behavior_type='buy') buy\n",
    "from test.user_behavior\n",
    "where DATE(timestamp) between '2017-11-27' and '2017-12-03'\n",
    "group by weekday\n",
    "order by weekday\"\"\"\n",
    "client.query_dataframe(sql)"
   ],
   "metadata": {
    "collapsed": false,
    "pycharm": {
     "name": "#%%\n"
    }
   }
  },
  {
   "cell_type": "markdown",
   "source": [
    "### 最近一次购买"
   ],
   "metadata": {
    "collapsed": false
   }
  },
  {
   "cell_type": "code",
   "execution_count": null,
   "outputs": [],
   "source": [
    "sql = \"\"\"set allow_experimental_window_functions=1\"\"\"\n",
    "client.execute(sql)\n",
    "sql=\"\"\"select user_id,\n",
    "       dateDiff('day',max(timestamp),DATE('2017-12-04')) R,\n",
    "       dense_rank() over( order by dateDiff('day',max(timestamp),DATE('2017-12-04'))) R_rank\n",
    "from test.user_behavior\n",
    "where behavior_type = 'buy'\n",
    "group by user_id\n",
    "limit 100;\"\"\"\n",
    "client.query_dataframe(sql)"
   ],
   "metadata": {
    "collapsed": false,
    "pycharm": {
     "name": "#%%\n"
    }
   }
  },
  {
   "cell_type": "markdown",
   "source": [
    "### 消费频率"
   ],
   "metadata": {
    "collapsed": false
   }
  },
  {
   "cell_type": "code",
   "execution_count": null,
   "outputs": [],
   "source": [
    "sql = \"\"\"set allow_experimental_window_functions=1;\"\"\"\n",
    "client.execute(sql)\n",
    "sql=\"\"\"select user_id,\n",
    "       count() as F,\n",
    "       dense_rank() over(order by count() desc) as F_rank\n",
    "from test.user_behavior\n",
    "where behavior_type = 'buy'\n",
    "group by user_id\n",
    "limit 10;\"\"\"\n",
    "client.query_dataframe(sql)"
   ],
   "metadata": {
    "collapsed": false,
    "pycharm": {
     "name": "#%%\n"
    }
   }
  },
  {
   "cell_type": "code",
   "execution_count": null,
   "outputs": [],
   "source": [],
   "metadata": {
    "collapsed": false,
    "pycharm": {
     "name": "#%%\n"
    }
   }
  },
  {
   "cell_type": "code",
   "execution_count": null,
   "outputs": [],
   "source": [
    "import os\n",
    "import pandas as pd\n",
    "from clickhouse_driver import Client\n",
    "\n",
    "ck_host = os.environ.get('CK_HOST') or '127.0.0.1'\n",
    "\n",
    "client = Client(host=ck_host, port=9000, user='wuhao', password='123456')\n",
    "\n"
   ],
   "metadata": {
    "collapsed": false,
    "pycharm": {
     "name": "#%%\n"
    }
   }
  },
  {
   "cell_type": "code",
   "execution_count": null,
   "outputs": [],
   "source": [
    "sql = \"\"\"select sum(if(behavior_type = 'pv', 1, 0)) as pv, uniqExact(user_id) as uv\n",
    "from test.user_behavior\"\"\"\n",
    "df=client.query_dataframe(sql)\n",
    "df"
   ],
   "metadata": {
    "collapsed": false,
    "pycharm": {
     "name": "#%%\n"
    }
   }
  },
  {
   "cell_type": "code",
   "execution_count": null,
   "outputs": [],
   "source": [
    "sql=\"\"\"select DATE(timestamp) as day,\n",
    "       sum(if(behavior_type = 'pv', 1, 0)) as pv,\n",
    "       uniqExact(user_id) as uv\n",
    "from test.user_behavior\n",
    "group by DATE(timestamp)\n",
    "order by day\"\"\"\n",
    "df=client.query_dataframe(sql)\n",
    "df"
   ],
   "metadata": {
    "collapsed": false,
    "pycharm": {
     "name": "#%%\n"
    }
   }
  },
  {
   "cell_type": "markdown",
   "source": [
    "###  每个用户的购物情况，加工到 user_behavior_count"
   ],
   "metadata": {
    "collapsed": false
   }
  },
  {
   "cell_type": "code",
   "execution_count": null,
   "outputs": [],
   "source": [
    "sql=\"\"\"drop table if exists test.user_behavior_count\"\"\"\n",
    "client.execute(sql)\n",
    "sql=\"\"\"create view test.user_behavior_count as\n",
    "(select user_id,\n",
    "       sum(if(behavior_type='pv',1,0)) as pv,\n",
    "       sum(if(behavior_type='fav',1,0)) as fav,\n",
    "       sum(if(behavior_type='cart',1,0)) as cart,\n",
    "       sum(if(behavior_type='buy',1,0)) as buy\n",
    "       from test.user_behavior\n",
    "group by user_id)\"\"\"\n",
    "client.execute(sql)"
   ],
   "metadata": {
    "collapsed": false,
    "pycharm": {
     "name": "#%%\n"
    }
   }
  },
  {
   "cell_type": "markdown",
   "source": [
    "### 复购率：产生两次或两次以上购买的用户占购买用户的比例"
   ],
   "metadata": {
    "collapsed": false
   }
  },
  {
   "cell_type": "code",
   "execution_count": null,
   "outputs": [],
   "source": [
    "sql=\"\"\"select round(sum(if(buy > 1, 1, 0)) *100 / sum(if(buy > 0, 1, 0)),2)  as p\n",
    "from test.user_behavior_count\"\"\"\n",
    "df=client.query_dataframe(sql)\n",
    "df"
   ],
   "metadata": {
    "collapsed": false,
    "pycharm": {
     "name": "#%%\n"
    }
   }
  },
  {
   "cell_type": "markdown",
   "source": [
    "### 用户行为转换率"
   ],
   "metadata": {
    "collapsed": false
   }
  },
  {
   "cell_type": "code",
   "execution_count": null,
   "outputs": [],
   "source": [
    "sql=\"\"\"select a.pv,\n",
    "       a.fav,\n",
    "       a.cart,\n",
    "       a.fav + a.cart                     `fav+cart`,\n",
    "       a.buy,\n",
    "       round((a.fav + a.cart) / a.pv, 4)  pv2favcart,\n",
    "       round(a.buy / (a.fav + a.cart), 4) favcart2buy,\n",
    "       round(a.buy / a.pv, 4)             pv2buy\n",
    "from (select sum(pv)   pv,\n",
    "             sum(fav)  fav,\n",
    "             sum(cart) cart,\n",
    "             sum(buy)  buy\n",
    "      from test.user_behavior_count) a\"\"\"\n",
    "client.query_dataframe(sql)"
   ],
   "metadata": {
    "collapsed": false,
    "pycharm": {
     "name": "#%%\n"
    }
   }
  },
  {
   "cell_type": "markdown",
   "source": [
    "### 用户行为习惯"
   ],
   "metadata": {
    "collapsed": false
   }
  },
  {
   "cell_type": "code",
   "execution_count": null,
   "outputs": [],
   "source": [
    "sql=\"\"\"select HOUR(timestamp)                  hour,\n",
    "       sumIf(1, behavior_type = 'pv')   pv,\n",
    "       sumIf(1, behavior_type = 'fav')  fav,\n",
    "       sumIf(1, behavior_type = 'cart') cart,\n",
    "       sumIf(1, behavior_type = 'buy') buy\n",
    "from test.user_behavior\n",
    "group by HOUR(timestamp)\n",
    "order by hour\"\"\"\n",
    "client.query_dataframe(sql)"
   ],
   "metadata": {
    "collapsed": false,
    "pycharm": {
     "name": "#%%\n"
    }
   }
  },
  {
   "cell_type": "markdown",
   "source": [
    "### 一周用户的活跃分布"
   ],
   "metadata": {
    "collapsed": false
   }
  },
  {
   "cell_type": "code",
   "execution_count": null,
   "outputs": [],
   "source": [
    "sql=\"\"\"select  toDayOfWeek(timestamp) weekday,\n",
    "       sumIf(1,behavior_type='pv') pv,\n",
    "       sumIf(1,behavior_type='fav') fav,\n",
    "       sumIf(1,behavior_type='cart') cart,\n",
    "       sumIf(1,behavior_type='buy') buy\n",
    "from test.user_behavior\n",
    "where DATE(timestamp) between '2017-11-27' and '2017-12-03'\n",
    "group by weekday\n",
    "order by weekday\"\"\"\n",
    "client.query_dataframe(sql)"
   ],
   "metadata": {
    "collapsed": false,
    "pycharm": {
     "name": "#%%\n"
    }
   }
  },
  {
   "cell_type": "markdown",
   "source": [
    "### 最近一次购买"
   ],
   "metadata": {
    "collapsed": false
   }
  },
  {
   "cell_type": "code",
   "execution_count": null,
   "outputs": [],
   "source": [
    "sql = \"\"\"set allow_experimental_window_functions=1\"\"\"\n",
    "client.execute(sql)\n",
    "sql=\"\"\"select user_id,\n",
    "       dateDiff('day',max(timestamp),DATE('2017-12-04')) R,\n",
    "       dense_rank() over( order by dateDiff('day',max(timestamp),DATE('2017-12-04'))) R_rank\n",
    "from test.user_behavior\n",
    "where behavior_type = 'buy'\n",
    "group by user_id\n",
    "limit 100;\"\"\"\n",
    "client.query_dataframe(sql)"
   ],
   "metadata": {
    "collapsed": false,
    "pycharm": {
     "name": "#%%\n"
    }
   }
  },
  {
   "cell_type": "markdown",
   "source": [
    "### 消费频率"
   ],
   "metadata": {
    "collapsed": false
   }
  },
  {
   "cell_type": "code",
   "execution_count": null,
   "outputs": [],
   "source": [
    "sql = \"\"\"set allow_experimental_window_functions=1;\"\"\"\n",
    "client.execute(sql)\n",
    "sql=\"\"\"select user_id,\n",
    "       count() as F,\n",
    "       dense_rank() over(order by count() desc) as F_rank\n",
    "from test.user_behavior\n",
    "where behavior_type = 'buy'\n",
    "group by user_id\n",
    "limit 10;\"\"\"\n",
    "client.query_dataframe(sql)"
   ],
   "metadata": {
    "collapsed": false,
    "pycharm": {
     "name": "#%%\n"
    }
   }
  },
  {
   "cell_type": "code",
   "execution_count": null,
   "outputs": [],
   "source": [
    "sql = \"\"\"set allow_experimental_window_functions=1;\"\"\"\n",
    "client.execute(sql)\n",
    "sql=\"\"\"select user_id,\n",
    "       dateDiff('day', max(timestamp), DATE('2017-12-04')) R,\n",
    "       dense_rank()                                        over( order by dateDiff('day',max(timestamp),DATE('2017-12-04'))) R_rank,\n",
    "       count() as                                          F,\n",
    "       dense_rank()                                        over(order by count() desc) as F_rank\n",
    "\n",
    "from test.user_behavior\n",
    "where behavior_type = 'buy'\n",
    "group by user_id\"\"\"\n",
    "client.query_dataframe(sql)"
   ],
   "metadata": {
    "collapsed": false,
    "pycharm": {
     "name": "#%%\n"
    }
   }
  },
  {
   "cell_type": "markdown",
   "source": [
    "### 商品维度的分析"
   ],
   "metadata": {
    "collapsed": false
   }
  },
  {
   "cell_type": "code",
   "execution_count": null,
   "outputs": [],
   "source": [
    "sql=\"\"\"select item_id,\n",
    "       sumIf(1,behavior_type = 'pv')   as pv,\n",
    "       sumIf(1,behavior_type = 'fav')  as fav,\n",
    "       sumIf(1,behavior_type = 'cart') as cart,\n",
    "       sumIf(1,behavior_type = 'buy')  as buy\n",
    "from test.user_behavior\n",
    "group by item_id\n",
    "order by buy desc\n",
    "limit 10\"\"\"\n",
    "client.query_dataframe(sql)"
   ],
   "metadata": {
    "collapsed": false,
    "pycharm": {
     "name": "#%%\n"
    }
   }
  },
  {
   "cell_type": "code",
   "execution_count": null,
   "outputs": [],
   "source": [
    "sql=\"\"\"select category_id,\n",
    "       sumIf(1,behavior_type = 'pv')   as pv,\n",
    "       sumIf(1,behavior_type = 'fav')  as fav,\n",
    "       sumIf(1,behavior_type = 'cart') as cart,\n",
    "       sumIf(1,behavior_type = 'buy')  as buy\n",
    "from test.user_behavior\n",
    "group by category_id\n",
    "order by buy desc\n",
    "limit 10\"\"\"\n",
    "client.query_dataframe(sql)"
   ],
   "metadata": {
    "collapsed": false,
    "pycharm": {
     "name": "#%%\n"
    }
   }
  },
  {
   "cell_type": "code",
   "execution_count": null,
   "outputs": [],
   "source": [],
   "metadata": {
    "collapsed": false,
    "pycharm": {
     "name": "#%%\n"
    }
   }
  }
 ],
 "metadata": {
  "kernelspec": {
   "display_name": "Python 3",
   "language": "python",
   "name": "python3"
  },
  "language_info": {
   "codemirror_mode": {
    "name": "ipython",
    "version": 3
   },
   "file_extension": ".py",
   "mimetype": "text/x-python",
   "name": "python",
   "nbconvert_exporter": "python",
   "pygments_lexer": "ipython3",
   "version": "3.8.2"
  }
 },
 "nbformat": 4,
 "nbformat_minor": 1
}